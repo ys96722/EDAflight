{
 "cells": [
  {
   "cell_type": "code",
   "execution_count": 5,
   "metadata": {},
   "outputs": [],
   "source": [
    "import pandas as pd\n",
    "import numpy as np\n",
    "import matplotlib.pyplot as plt\n",
    "import seaborn as sns\n",
    "import folium\n",
    "import os"
   ]
  },
  {
   "cell_type": "code",
   "execution_count": 6,
   "metadata": {},
   "outputs": [],
   "source": [
    "sns.set_style('whitegrid')\n",
    "plt.rcParams['figure.figsize'] = 15,15"
   ]
  },
  {
   "cell_type": "code",
   "execution_count": 7,
   "metadata": {},
   "outputs": [],
   "source": [
    "from jupyterthemes import jtplot\n",
    "jtplot.style(figsize=(15,15))"
   ]
  },
  {
   "cell_type": "markdown",
   "metadata": {},
   "source": [
    "# Import"
   ]
  },
  {
   "cell_type": "code",
   "execution_count": 8,
   "metadata": {},
   "outputs": [],
   "source": [
    "airports = pd.read_csv('original_datasets/airports.csv')"
   ]
  },
  {
   "cell_type": "code",
   "execution_count": 9,
   "metadata": {},
   "outputs": [],
   "source": [
    "carriers = pd.read_csv('original_datasets/carriers.csv')"
   ]
  },
  {
   "cell_type": "code",
   "execution_count": 10,
   "metadata": {},
   "outputs": [],
   "source": [
    "planes = pd.read_csv('original_datasets/plane-data.csv')"
   ]
  },
  {
   "cell_type": "code",
   "execution_count": 11,
   "metadata": {},
   "outputs": [],
   "source": [
    "oldData = pd.read_csv('original_datasets/1998.csv')"
   ]
  },
  {
   "cell_type": "code",
   "execution_count": null,
   "metadata": {},
   "outputs": [],
   "source": [
    "newData = pd.read_csv('original_datasets/2006.csv')"
   ]
  },
  {
   "cell_type": "code",
   "execution_count": null,
   "metadata": {},
   "outputs": [],
   "source": [
    "byCarrier = pd.read_csv('generated_datasets/byCarr.csv')\n",
    "byCord = pd.read_csv('generated_datasets/byCord.csv')\n",
    "byModel = pd.read_csv('generated_datasets/bymodel.csv')\n",
    "byManu = pd.read_csv('generated_datasets/bymyear.csv')\n",
    "byState = pd.read_csv('generated_datasets/byState.csv')"
   ]
  },
  {
   "cell_type": "markdown",
   "metadata": {},
   "source": [
    "# Wrangling"
   ]
  },
  {
   "cell_type": "code",
   "execution_count": null,
   "metadata": {},
   "outputs": [],
   "source": [
    "oldCancel = oldData[oldData['Cancelled'] == 1]\n",
    "newCancel = newData[newData['Cancelled'] == 1]"
   ]
  },
  {
   "cell_type": "markdown",
   "metadata": {},
   "source": [
    "# Plots"
   ]
  },
  {
   "cell_type": "markdown",
   "metadata": {},
   "source": [
    "## 1998"
   ]
  },
  {
   "cell_type": "code",
   "execution_count": null,
   "metadata": {
    "scrolled": true
   },
   "outputs": [],
   "source": [
    "sns.countplot(data=oldCancel, x='Month').set_title(\"Number of Cancellations by Month in 1998\")\n",
    "plt.savefig('Number of Cancellations by Month in 1998', dpi=100)"
   ]
  },
  {
   "cell_type": "code",
   "execution_count": null,
   "metadata": {},
   "outputs": [],
   "source": [
    "sns.countplot(data=oldCancel, x='DayofMonth').set_title(\"Count of Cancellations by Date in 1998\")"
   ]
  },
  {
   "cell_type": "code",
   "execution_count": null,
   "metadata": {},
   "outputs": [],
   "source": [
    "sns.countplot(data=oldCancel, x='DayOfWeek').set_title(\"Count of Cancellations by Day in 1998\")"
   ]
  },
  {
   "cell_type": "code",
   "execution_count": null,
   "metadata": {},
   "outputs": [],
   "source": [
    "sns.countplot(data=oldCancel, x='UniqueCarrier')"
   ]
  },
  {
   "cell_type": "markdown",
   "metadata": {},
   "source": [
    "## 2006"
   ]
  },
  {
   "cell_type": "code",
   "execution_count": null,
   "metadata": {},
   "outputs": [],
   "source": [
    "f,ax=plt.subplots(1,2,figsize=(20,8))\n",
    "\n",
    "newCancel['CancellationCode'].value_counts().plot.pie(explode=[0.05,0.05,0.05,0.05],autopct='%1.1f%%',ax=ax[0],shadow=True)\n",
    "ax[0].set_ylabel('')\n",
    "sns.countplot('CancellationCode', order = newCancel['CancellationCode'].value_counts().index, data=newCancel, ax=ax[1])\n",
    "plt.savefig('Distribution of Cancellation Codes')\n",
    "print('A = carrier, B = weather, C = NAS, D = security')"
   ]
  },
  {
   "cell_type": "code",
   "execution_count": null,
   "metadata": {
    "scrolled": true
   },
   "outputs": [],
   "source": [
    "sns.countplot(data=newCancel, x='Month').set_title(\"Count of Cancellations in 2006\")\n",
    "plt.show()"
   ]
  },
  {
   "cell_type": "code",
   "execution_count": null,
   "metadata": {},
   "outputs": [],
   "source": [
    "sns.countplot(data=newCancel, x='DayofMonth').set_title(\"Count of Cancellations by Date in 2006\")"
   ]
  },
  {
   "cell_type": "code",
   "execution_count": null,
   "metadata": {},
   "outputs": [],
   "source": [
    "sns.countplot(data=newCancel, x='DayOfWeek').set_title(\"Count of Cancellations by Day in 2006\")"
   ]
  },
  {
   "cell_type": "code",
   "execution_count": null,
   "metadata": {},
   "outputs": [],
   "source": [
    "sns.countplot(data=newCancel, x='Month', hue=\"CancellationCode\").set_title(\"Number of Cancellations by Code in 2006\")\n",
    "plt.savefig(\"Number of Cancellations by Code in 2006\")"
   ]
  },
  {
   "cell_type": "code",
   "execution_count": null,
   "metadata": {},
   "outputs": [],
   "source": [
    "sns.countplot(data=newCancel, x='UniqueCarrier')"
   ]
  },
  {
   "cell_type": "markdown",
   "metadata": {},
   "source": [
    "# Rate of Cancellation by Carrier"
   ]
  },
  {
   "cell_type": "code",
   "execution_count": null,
   "metadata": {},
   "outputs": [],
   "source": [
    "cancelRateCarrier = sns.barplot(data = byCarrier, x = 'year', y= byCarrier['num_cancl']/byCarrier['num_flight'] , \n",
    "                                        ci =None , hue = 'carrier')\n",
    "cancelRateCarrier.set_title('Rate of Cancellation by Carrier')\n",
    "cancelRateCarrier.set_xticklabels(cancelRateCarrier.get_xticklabels(), \n",
    "                                          rotation=40, ha=\"right\")\n",
    "plt.tight_layout()\n",
    "plt.savefig(\"Rate of Cancellation by Carrier\")"
   ]
  },
  {
   "cell_type": "code",
   "execution_count": null,
   "metadata": {},
   "outputs": [],
   "source": [
    "delayByManuYear = sns.lineplot(data = byManu, x = 'manu_year',y= 'avg_dely', hue='year', ci =None)\n",
    "delayByManuYear.set_title('Mean Delay by Manufactured Year')\n",
    "# plt.axvline(1997, 0, color='r', linestyle='--', lw=2, label=\"IMF Crisis\")\n",
    "# plt.axvline(2002, 0, color='w', linestyle='--', lw=2, label=\"2002 World Cup\")\n",
    "# plt.axvline(2008, 0, color='b', linestyle='--', lw=2, label=\"Global Financial Crisis\")\n",
    "# plt.axvline(2014, 0, color='y', linestyle='--', lw=2, label=\"Sinking of Sewol Ship\")\n",
    "plt.xlim(1956,2007)\n",
    "# delayByManuYear.set_label('label1')\n",
    "delayByManuYear.legend()\n",
    "plt.savefig(\"Mean Delay by Manufactured Year\")\n",
    "plt.show()"
   ]
  },
  {
   "cell_type": "markdown",
   "metadata": {},
   "source": [
    "# Map Plot for Cancellation Rate"
   ]
  },
  {
   "cell_type": "code",
   "execution_count": null,
   "metadata": {},
   "outputs": [],
   "source": [
    "plt.matshow(byManu.corr())\n",
    "plt.xticks(range(len(byManu.columns)), byManu.columns)\n",
    "plt.yticks(range(len(byManu.columns)), byManu.columns)\n",
    "plt.colorbar()\n",
    "plt.savefig(\"Correlation Heatmap\")"
   ]
  },
  {
   "cell_type": "code",
   "execution_count": null,
   "metadata": {},
   "outputs": [],
   "source": [
    "faster = newData[['CRSElapsedTime','ActualElapsedTime','DepDelay','ArrDelay']].dropna()"
   ]
  },
  {
   "cell_type": "code",
   "execution_count": null,
   "metadata": {},
   "outputs": [],
   "source": [
    "faster['TimeAir'] = faster['ActualElapsedTime'] - faster['CRSElapsedTime']\n",
    "faster['DelayDiff'] = faster['ArrDelay'] - faster['DepDelay']"
   ]
  },
  {
   "cell_type": "code",
   "execution_count": null,
   "metadata": {},
   "outputs": [],
   "source": [
    "relationPlot = sns.scatterplot(data = faster, \n",
    "                      x = 'DelayDiff',\n",
    "                      y= 'TimeAir', \n",
    "                      ci =None)\n",
    "fasterPlot.set_title('Delay Difference vs Flight Time Difference')\n",
    "plt.show()"
   ]
  },
  {
   "cell_type": "code",
   "execution_count": null,
   "metadata": {},
   "outputs": [],
   "source": [
    "fasterPlot = sns.scatterplot(data = faster, \n",
    "                      x = 'DepDelay',\n",
    "                      y= faster['CRSElapsedTime'] - faster['ActualElapsedTime'], \n",
    "                      ci =None)\n",
    "fasterPlot.set_title('Departure Delay versus Flight Time')\n",
    "plt.show()"
   ]
  },
  {
   "cell_type": "code",
   "execution_count": null,
   "metadata": {},
   "outputs": [],
   "source": [
    "state_geo = os.path.join('generated_datasets/', 'us-states.json')\n",
    " \n",
    "# Initialize the map:\n",
    "rateCancellationMap = folium.Map(location=[37, -102], zoom_start=5)\n",
    " \n",
    "# Add the color for the chloropleth:\n",
    "rateCancellationMap.choropleth(\n",
    " geo_data=state_geo,\n",
    " name='choropleth',\n",
    " data=byState,\n",
    " columns=['state', 'r_cancl'],\n",
    " key_on='feature.id',\n",
    " fill_color='YlGn',\n",
    " fill_opacity=0.7,\n",
    " line_opacity=0.2,\n",
    " legend_name='Cancellation Rate (%)'\n",
    ")\n",
    "folium.LayerControl().add_to(m)\n",
    " \n",
    "# Save to html\n",
    "rateCancellationMap.save('rateCancellationMap.html')"
   ]
  },
  {
   "cell_type": "code",
   "execution_count": null,
   "metadata": {},
   "outputs": [],
   "source": [
    "rateDelayMap = folium.Map(location=[37, -102], zoom_start=5)\n",
    " \n",
    "# Add the color for the chloropleth:\n",
    "rateDelayMap.choropleth(\n",
    " geo_data=state_geo,\n",
    " name='choropleth',\n",
    " data=byState,\n",
    " columns=['state', 'r_dely'],\n",
    " key_on='feature.id',\n",
    " fill_color='YlGn',\n",
    " fill_opacity=0.7,\n",
    " line_opacity=0.2,\n",
    " legend_name='Delay Rate (%)'\n",
    ")\n",
    "folium.LayerControl().add_to(m)\n",
    " \n",
    "# Save to html\n",
    "rateDelayMap.save('rateDelayMap.html')"
   ]
  },
  {
   "cell_type": "code",
   "execution_count": null,
   "metadata": {},
   "outputs": [],
   "source": [
    "numFlightMap = folium.Map(location=[37, -102], zoom_start=5)\n",
    " \n",
    "# Add the color for the chloropleth:\n",
    "numFlightMap.choropleth(\n",
    " geo_data=state_geo,\n",
    " name='choropleth',\n",
    " data=byState,\n",
    " columns=['state', 'num_flight'],\n",
    " key_on='feature.id',\n",
    " fill_color='YlGn',\n",
    " fill_opacity=0.7,\n",
    " line_opacity=0.2,\n",
    " legend_name='Number of Flights'\n",
    ")\n",
    "folium.LayerControl().add_to(m)\n",
    " \n",
    "# Save to html\n",
    "numFlightMap.save('numFlightMap.png')"
   ]
  }
 ],
 "metadata": {
  "kernelspec": {
   "display_name": "Python 3",
   "language": "python",
   "name": "python3"
  },
  "language_info": {
   "codemirror_mode": {
    "name": "ipython",
    "version": 3
   },
   "file_extension": ".py",
   "mimetype": "text/x-python",
   "name": "python",
   "nbconvert_exporter": "python",
   "pygments_lexer": "ipython3",
   "version": "3.6.4"
  }
 },
 "nbformat": 4,
 "nbformat_minor": 2
}
